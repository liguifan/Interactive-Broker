{
 "cells": [
  {
   "cell_type": "code",
   "execution_count": 3,
   "metadata": {
    "collapsed": false
   },
   "outputs": [
    {
     "name": "stdout",
     "output_type": "stream",
     "text": [
      "Market Event\n",
      "Portfolio Update\n",
      "Market Event\n",
      "Portfolio Update\n",
      "Market Event\n",
      "Portfolio Update\n"
     ]
    },
    {
     "ename": "KeyboardInterrupt",
     "evalue": "",
     "output_type": "error",
     "traceback": [
      "\u001b[1;31m---------------------------------------------------------------------------\u001b[0m",
      "\u001b[1;31mKeyboardInterrupt\u001b[0m                         Traceback (most recent call last)",
      "\u001b[1;32m<ipython-input-3-61edb65f0d2f>\u001b[0m in \u001b[0;36m<module>\u001b[1;34m()\u001b[0m\n\u001b[0;32m     57\u001b[0m \u001b[1;33m\u001b[0m\u001b[0m\n\u001b[0;32m     58\u001b[0m         \u001b[1;31m# 1-Second heartbeat, accelerate backtesting\u001b[0m\u001b[1;33m\u001b[0m\u001b[1;33m\u001b[0m\u001b[0m\n\u001b[1;32m---> 59\u001b[1;33m         \u001b[0mtime\u001b[0m\u001b[1;33m.\u001b[0m\u001b[0msleep\u001b[0m\u001b[1;33m(\u001b[0m\u001b[1;36m1\u001b[0m\u001b[1;33m)\u001b[0m\u001b[1;33m\u001b[0m\u001b[0m\n\u001b[0m\u001b[0;32m     60\u001b[0m \u001b[1;32melif\u001b[0m \u001b[0mmode\u001b[0m \u001b[1;33m==\u001b[0m \u001b[1;34m\"Realtime\"\u001b[0m\u001b[1;33m:\u001b[0m\u001b[1;33m\u001b[0m\u001b[0m\n\u001b[0;32m     61\u001b[0m     \u001b[1;32mprint\u001b[0m \u001b[1;34m\"Let's merge your code here\"\u001b[0m\u001b[1;33m\u001b[0m\u001b[0m\n",
      "\u001b[1;31mKeyboardInterrupt\u001b[0m: "
     ]
    }
   ],
   "source": [
    "import event, data, strategy, portfolio, execution, time, Queue\n",
    "\n",
    "mode = \"Backtesting\"\n",
    "\n",
    "if mode == \"Backtesting\":\n",
    "    ##-------------Initialization-------------------------------------------\n",
    "    # Declare the components with respective parameters\n",
    "    events = Queue.Queue()\n",
    "    \n",
    "    # You need to change this to your directory\n",
    "    rootpath = \"C:/Users/Ruimin/Anaconda2/IBtrading/\"\n",
    "    symbol_list = [\"chart\"]\n",
    "    # (self, events, csv_dir, symbol_list)\n",
    "    bars = data.HistoricCSVDataHandler(events, rootpath, symbol_list) \n",
    "\n",
    "    strategy = strategy.technical_RSI(bars, events) #(self, bars, events)\n",
    "\n",
    "    # (self, bars, events, start_date, initial_capital=100000.0)\n",
    "    port = portfolio.NaivePortfolio(bars, events, \"12-5-2014\", 10000000)  \n",
    "\n",
    "    broker = execution.SimulatedExecutionHandler(events)\n",
    "\n",
    "    ##--------------Start backtesting-----------------------------------------\n",
    "    while True:\n",
    "        # Update the bars (specific backtest code, as opposed to live trading)\n",
    "        if bars.continue_backtest == True:\n",
    "            bars.update_bars()\n",
    "        else:\n",
    "            break\n",
    "\n",
    "        # Handle the events\n",
    "        while True:\n",
    "            try:\n",
    "                event = events.get(False)\n",
    "            except Queue.Empty:\n",
    "                break\n",
    "            else:\n",
    "                if event is not None:\n",
    "                    if event.type == 'MARKET':\n",
    "                        strategy.calculate_signals(event)\n",
    "                        print \"Market Event\"\n",
    "                        port.update_timeindex(event)\n",
    "                        print \"Portfolio Update\"\n",
    "\n",
    "                    elif event.type == 'SIGNAL':\n",
    "                        port.update_signal(event)\n",
    "                        print \"Portfolio Event\"\n",
    "\n",
    "                    elif event.type == 'ORDER':\n",
    "                        broker.execute_order(event)\n",
    "                        print \"Order Event\"\n",
    "                        #time.sleep(3) # just to make sure the order could be filled by the broker\n",
    "                        \n",
    "                    elif event.type == 'FILL':\n",
    "                        port.update_fill(event)\n",
    "                        print \"Order Done\"\n",
    "                \n",
    "        # 1-Second heartbeat, accelerate backtesting\n",
    "        time.sleep(1)\n",
    "elif mode == \"Realtime\":\n",
    "    print \"Let's merge your code here\""
   ]
  },
  {
   "cell_type": "code",
   "execution_count": null,
   "metadata": {
    "collapsed": true
   },
   "outputs": [],
   "source": []
  }
 ],
 "metadata": {
  "kernelspec": {
   "display_name": "Python 2",
   "language": "python",
   "name": "python2"
  },
  "language_info": {
   "codemirror_mode": {
    "name": "ipython",
    "version": 2
   },
   "file_extension": ".py",
   "mimetype": "text/x-python",
   "name": "python",
   "nbconvert_exporter": "python",
   "pygments_lexer": "ipython2",
   "version": "2.7.11"
  }
 },
 "nbformat": 4,
 "nbformat_minor": 0
}
